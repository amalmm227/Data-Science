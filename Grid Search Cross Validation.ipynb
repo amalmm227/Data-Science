{
 "cells": [
  {
   "cell_type": "code",
   "execution_count": null,
   "id": "2adde639",
   "metadata": {},
   "outputs": [],
   "source": [
    "import pandas as pd\n",
    "df = pd.read_csv('Social_Network_Ads.csv')\n",
    "df.head()\n",
    "from sklearn.linear_model import LogisticRegression,LinearRegression\n",
    "from sklearn.tree import DecisionTreeRegressor\n",
    "from sklearn.naive_bayes import GaussianNB\n",
    "from sklearn.ensemble import RandomForestClassifier\n",
    "from sklearn.model_selection import cross_val_score,GridSearchCV\n",
    "from sklearn.model_selection import KFold\n",
    "from sklearn.svm import SVC\n",
    "from sklearn.neighbors import KNeighborsClassifier\n",
    "\n",
    "\n"
   ]
  },
  {
   "cell_type": "code",
   "execution_count": null,
   "id": "28cc1ebd",
   "metadata": {},
   "outputs": [],
   "source": [
    "df.head()"
   ]
  },
  {
   "cell_type": "code",
   "execution_count": null,
   "id": "6df79b29",
   "metadata": {},
   "outputs": [],
   "source": [
    "x= df.drop(['Purchased','User ID','Gender'],axis=1)\n",
    "y = df['Purchased']"
   ]
  },
  {
   "cell_type": "code",
   "execution_count": null,
   "id": "d02cdc0c",
   "metadata": {},
   "outputs": [],
   "source": [
    "models = {'l_regression':LogisticRegression(),'Gaussian':GaussianNB(),'R_forest':RandomForestClassifier(),'Svc':SVC(),'KnN':KNeighborsClassifier()}\n",
    "\n",
    "res = []\n",
    "\n",
    "for i in models:\n",
    "    model=models[i]\n",
    "    scores=cross_val_score(model,x,y,cv=5)\n",
    "    a=(i,scores.mean())\n",
    "    res.append(a)"
   ]
  },
  {
   "cell_type": "code",
   "execution_count": null,
   "id": "a3a03229",
   "metadata": {},
   "outputs": [],
   "source": [
    "res"
   ]
  },
  {
   "cell_type": "markdown",
   "id": "c6aaa93a",
   "metadata": {},
   "source": [
    "# Parameters"
   ]
  },
  {
   "cell_type": "code",
   "execution_count": null,
   "id": "2c97e1fb",
   "metadata": {},
   "outputs": [],
   "source": [
    "lg_params={'solver':['lbfgs','liblinear','newton-cg','newton-cholesky','sag','saga']}\n",
    "\n",
    "\n",
    "dt_params={'criterion':['gini','entropy','log_loss']}"
   ]
  },
  {
   "cell_type": "code",
   "execution_count": null,
   "id": "8e4906fd",
   "metadata": {},
   "outputs": [],
   "source": [
    "model_details = {\n",
    "                 'logistic':{'model':LogisticRegression(),'params':lg_params},\n",
    "                            'dt':{'model':RandomForestClassifier(),'params':dt_params}}"
   ]
  },
  {
   "cell_type": "code",
   "execution_count": null,
   "id": "efd5a510",
   "metadata": {},
   "outputs": [],
   "source": [
    "def get_best(x,y):\n",
    "    results=[]\n",
    "    for model_name in model_details:\n",
    "        model_dict=model_details.get(model_name)\n",
    "        model=model_dict.get('model')\n",
    "        params=model_dict.get('params')\n",
    "        cv=GridSearchCV(model,params,cv=5,return_train_score=True)\n",
    "        cv.fit(x,y)\n",
    "        bp=cv.best_params_\n",
    "        bs=cv.best_score_\n",
    "        t_res={'model':model_name,'best_params':bp,'best_score':bs}\n",
    "        results.append(t_res)\n",
    "        \n",
    "    res_df=pd.DataFrame(results)\n",
    "    best_model=res_df[res_df['best_score']==res_df['best_score'].max()]\n",
    "    return res_df,best_model"
   ]
  },
  {
   "cell_type": "code",
   "execution_count": null,
   "id": "f675b755",
   "metadata": {},
   "outputs": [],
   "source": [
    "get_best(x,y)"
   ]
  },
  {
   "cell_type": "code",
   "execution_count": null,
   "id": "6f0068ff",
   "metadata": {},
   "outputs": [],
   "source": [
    "#'svm':{'model':SVC(),'params':svm_params}\n",
    "#svm_params={'gamma':[1,5,10],'C':[1.0],'kernel':['rbf','sigmoid','poly','linear']}\n",
    "    \n",
    "    \n",
    "# rf_params={'n_estimators':[10,20,30,40]}  \n",
    "#'rf':{'model':RandomForestClassifier(),'params':rf_params}"
   ]
  },
  {
   "cell_type": "code",
   "execution_count": null,
   "id": "85a0f2c7",
   "metadata": {},
   "outputs": [],
   "source": [
    "res_df,best_model=get_best(x,y)"
   ]
  },
  {
   "cell_type": "code",
   "execution_count": null,
   "id": "e2fb2db4",
   "metadata": {},
   "outputs": [],
   "source": [
    "res_df\n"
   ]
  },
  {
   "cell_type": "code",
   "execution_count": null,
   "id": "7572b503",
   "metadata": {},
   "outputs": [],
   "source": [
    "best_model"
   ]
  },
  {
   "cell_type": "code",
   "execution_count": 36,
   "id": "f2426e98",
   "metadata": {},
   "outputs": [
    {
     "data": {
      "text/html": [
       "<div>\n",
       "<style scoped>\n",
       "    .dataframe tbody tr th:only-of-type {\n",
       "        vertical-align: middle;\n",
       "    }\n",
       "\n",
       "    .dataframe tbody tr th {\n",
       "        vertical-align: top;\n",
       "    }\n",
       "\n",
       "    .dataframe thead th {\n",
       "        text-align: right;\n",
       "    }\n",
       "</style>\n",
       "<table border=\"1\" class=\"dataframe\">\n",
       "  <thead>\n",
       "    <tr style=\"text-align: right;\">\n",
       "      <th></th>\n",
       "      <th>YearsExperience</th>\n",
       "      <th>Salary</th>\n",
       "    </tr>\n",
       "  </thead>\n",
       "  <tbody>\n",
       "    <tr>\n",
       "      <th>0</th>\n",
       "      <td>1.1</td>\n",
       "      <td>39343.0</td>\n",
       "    </tr>\n",
       "    <tr>\n",
       "      <th>1</th>\n",
       "      <td>1.3</td>\n",
       "      <td>46205.0</td>\n",
       "    </tr>\n",
       "    <tr>\n",
       "      <th>2</th>\n",
       "      <td>1.5</td>\n",
       "      <td>37731.0</td>\n",
       "    </tr>\n",
       "    <tr>\n",
       "      <th>3</th>\n",
       "      <td>2.0</td>\n",
       "      <td>43525.0</td>\n",
       "    </tr>\n",
       "    <tr>\n",
       "      <th>4</th>\n",
       "      <td>2.2</td>\n",
       "      <td>39891.0</td>\n",
       "    </tr>\n",
       "  </tbody>\n",
       "</table>\n",
       "</div>"
      ],
      "text/plain": [
       "   YearsExperience   Salary\n",
       "0              1.1  39343.0\n",
       "1              1.3  46205.0\n",
       "2              1.5  37731.0\n",
       "3              2.0  43525.0\n",
       "4              2.2  39891.0"
      ]
     },
     "execution_count": 36,
     "metadata": {},
     "output_type": "execute_result"
    }
   ],
   "source": [
    "\n",
    "\n",
    "\n",
    "df1 = pd.read_csv('Salary_Data (1).csv')\n",
    "df1.head()"
   ]
  },
  {
   "cell_type": "code",
   "execution_count": 37,
   "id": "2e976689",
   "metadata": {},
   "outputs": [],
   "source": [
    "x = df1['YearsExperience']\n",
    "y = df1['Salary']"
   ]
  },
  {
   "cell_type": "code",
   "execution_count": 40,
   "id": "225d6e1f",
   "metadata": {},
   "outputs": [
    {
     "ename": "SyntaxError",
     "evalue": "invalid syntax (Temp/ipykernel_19860/2879985657.py, line 1)",
     "output_type": "error",
     "traceback": [
      "\u001b[1;36m  File \u001b[1;32m\"C:\\Users\\amalm\\AppData\\Local\\Temp/ipykernel_19860/2879985657.py\"\u001b[1;36m, line \u001b[1;32m1\u001b[0m\n\u001b[1;33m    linear_params = {'fit_interceptbool':default=True}\u001b[0m\n\u001b[1;37m                                                ^\u001b[0m\n\u001b[1;31mSyntaxError\u001b[0m\u001b[1;31m:\u001b[0m invalid syntax\n"
     ]
    }
   ],
   "source": []
  },
  {
   "cell_type": "code",
   "execution_count": null,
   "id": "57685776",
   "metadata": {},
   "outputs": [],
   "source": []
  }
 ],
 "metadata": {
  "kernelspec": {
   "display_name": "Python 3 (ipykernel)",
   "language": "python",
   "name": "python3"
  },
  "language_info": {
   "codemirror_mode": {
    "name": "ipython",
    "version": 3
   },
   "file_extension": ".py",
   "mimetype": "text/x-python",
   "name": "python",
   "nbconvert_exporter": "python",
   "pygments_lexer": "ipython3",
   "version": "3.9.7"
  }
 },
 "nbformat": 4,
 "nbformat_minor": 5
}
