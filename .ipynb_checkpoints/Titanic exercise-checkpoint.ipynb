{
 "cells": [
  {
   "cell_type": "code",
   "execution_count": 1,
   "id": "be240e06",
   "metadata": {},
   "outputs": [
    {
     "name": "stdout",
     "output_type": "stream",
     "text": [
      "Enter your First Number==85\n",
      "Enter yoyr Second Number==15\n",
      "a: 85\n",
      "b: 15\n",
      "The Sum is: 100\n"
     ]
    }
   ],
   "source": [
    "def sum(a,b):\n",
    "    print('a:',a)\n",
    "    print('b:',b)\n",
    "    \n",
    "    total=a+b\n",
    "    return total\n",
    "x=int(input('Enter your First Number=='))\n",
    "y=int(input('Enter yoyr Second Number=='))\n",
    "result=sum(x,y)\n",
    "print('The Sum is:',result)"
   ]
  },
  {
   "cell_type": "code",
   "execution_count": 3,
   "id": "3d079e14",
   "metadata": {},
   "outputs": [
    {
     "name": "stdout",
     "output_type": "stream",
     "text": [
      "Enter your first number=25\n",
      "Enter your second number=75\n",
      "a= 25\n",
      "b= 75\n",
      "The result is= 100\n"
     ]
    }
   ],
   "source": [
    "def sum(a,b):\n",
    "    print('a=',a)\n",
    "    print('b=',b)\n",
    "    \n",
    "    total=a+b\n",
    "    return total\n",
    "x=int(input('Enter your first number='))\n",
    "y=int(input('Enter your second number='))\n",
    "result=sum(x,y)\n",
    "print('The result is=',result)"
   ]
  },
  {
   "cell_type": "code",
   "execution_count": null,
   "id": "946073b5",
   "metadata": {},
   "outputs": [],
   "source": []
  }
 ],
 "metadata": {
  "kernelspec": {
   "display_name": "Python 3 (ipykernel)",
   "language": "python",
   "name": "python3"
  },
  "language_info": {
   "codemirror_mode": {
    "name": "ipython",
    "version": 3
   },
   "file_extension": ".py",
   "mimetype": "text/x-python",
   "name": "python",
   "nbconvert_exporter": "python",
   "pygments_lexer": "ipython3",
   "version": "3.9.7"
  }
 },
 "nbformat": 4,
 "nbformat_minor": 5
}
