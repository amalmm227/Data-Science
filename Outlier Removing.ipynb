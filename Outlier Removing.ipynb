{
 "cells": [
  {
   "cell_type": "code",
   "execution_count": 1,
   "id": "fb9dc77b",
   "metadata": {},
   "outputs": [],
   "source": [
    "import pandas as pd\n",
    "import seaborn as sns"
   ]
  },
  {
   "cell_type": "code",
   "execution_count": 2,
   "id": "48617eca",
   "metadata": {},
   "outputs": [
    {
     "data": {
      "text/html": [
       "<div>\n",
       "<style scoped>\n",
       "    .dataframe tbody tr th:only-of-type {\n",
       "        vertical-align: middle;\n",
       "    }\n",
       "\n",
       "    .dataframe tbody tr th {\n",
       "        vertical-align: top;\n",
       "    }\n",
       "\n",
       "    .dataframe thead th {\n",
       "        text-align: right;\n",
       "    }\n",
       "</style>\n",
       "<table border=\"1\" class=\"dataframe\">\n",
       "  <thead>\n",
       "    <tr style=\"text-align: right;\">\n",
       "      <th></th>\n",
       "      <th>month</th>\n",
       "      <th>town</th>\n",
       "      <th>flat_type</th>\n",
       "      <th>block</th>\n",
       "      <th>street_name</th>\n",
       "      <th>storey_range</th>\n",
       "      <th>floor_area_sqm</th>\n",
       "      <th>flat_model</th>\n",
       "      <th>lease_commence_date</th>\n",
       "      <th>resale_price</th>\n",
       "    </tr>\n",
       "  </thead>\n",
       "  <tbody>\n",
       "    <tr>\n",
       "      <th>0</th>\n",
       "      <td>1990-01</td>\n",
       "      <td>ANG MO KIO</td>\n",
       "      <td>1 ROOM</td>\n",
       "      <td>309</td>\n",
       "      <td>ANG MO KIO AVE 1</td>\n",
       "      <td>10 TO 12</td>\n",
       "      <td>31.0</td>\n",
       "      <td>IMPROVED</td>\n",
       "      <td>1977</td>\n",
       "      <td>9000</td>\n",
       "    </tr>\n",
       "    <tr>\n",
       "      <th>1</th>\n",
       "      <td>1990-01</td>\n",
       "      <td>ANG MO KIO</td>\n",
       "      <td>1 ROOM</td>\n",
       "      <td>309</td>\n",
       "      <td>ANG MO KIO AVE 1</td>\n",
       "      <td>04 TO 06</td>\n",
       "      <td>31.0</td>\n",
       "      <td>IMPROVED</td>\n",
       "      <td>1977</td>\n",
       "      <td>6000</td>\n",
       "    </tr>\n",
       "    <tr>\n",
       "      <th>2</th>\n",
       "      <td>1990-01</td>\n",
       "      <td>ANG MO KIO</td>\n",
       "      <td>1 ROOM</td>\n",
       "      <td>309</td>\n",
       "      <td>ANG MO KIO AVE 1</td>\n",
       "      <td>10 TO 12</td>\n",
       "      <td>31.0</td>\n",
       "      <td>IMPROVED</td>\n",
       "      <td>1977</td>\n",
       "      <td>8000</td>\n",
       "    </tr>\n",
       "    <tr>\n",
       "      <th>3</th>\n",
       "      <td>1990-01</td>\n",
       "      <td>ANG MO KIO</td>\n",
       "      <td>1 ROOM</td>\n",
       "      <td>309</td>\n",
       "      <td>ANG MO KIO AVE 1</td>\n",
       "      <td>07 TO 09</td>\n",
       "      <td>31.0</td>\n",
       "      <td>IMPROVED</td>\n",
       "      <td>1977</td>\n",
       "      <td>6000</td>\n",
       "    </tr>\n",
       "    <tr>\n",
       "      <th>4</th>\n",
       "      <td>1990-01</td>\n",
       "      <td>ANG MO KIO</td>\n",
       "      <td>3 ROOM</td>\n",
       "      <td>216</td>\n",
       "      <td>ANG MO KIO AVE 1</td>\n",
       "      <td>04 TO 06</td>\n",
       "      <td>73.0</td>\n",
       "      <td>NEW GENERATION</td>\n",
       "      <td>1976</td>\n",
       "      <td>47200</td>\n",
       "    </tr>\n",
       "    <tr>\n",
       "      <th>...</th>\n",
       "      <td>...</td>\n",
       "      <td>...</td>\n",
       "      <td>...</td>\n",
       "      <td>...</td>\n",
       "      <td>...</td>\n",
       "      <td>...</td>\n",
       "      <td>...</td>\n",
       "      <td>...</td>\n",
       "      <td>...</td>\n",
       "      <td>...</td>\n",
       "    </tr>\n",
       "    <tr>\n",
       "      <th>287195</th>\n",
       "      <td>1999-12</td>\n",
       "      <td>YISHUN</td>\n",
       "      <td>EXECUTIVE</td>\n",
       "      <td>611</td>\n",
       "      <td>YISHUN ST 61</td>\n",
       "      <td>10 TO 12</td>\n",
       "      <td>142.0</td>\n",
       "      <td>APARTMENT</td>\n",
       "      <td>1987</td>\n",
       "      <td>456000</td>\n",
       "    </tr>\n",
       "    <tr>\n",
       "      <th>287196</th>\n",
       "      <td>1999-12</td>\n",
       "      <td>YISHUN</td>\n",
       "      <td>EXECUTIVE</td>\n",
       "      <td>324</td>\n",
       "      <td>YISHUN CTRL</td>\n",
       "      <td>01 TO 03</td>\n",
       "      <td>142.0</td>\n",
       "      <td>APARTMENT</td>\n",
       "      <td>1988</td>\n",
       "      <td>408000</td>\n",
       "    </tr>\n",
       "    <tr>\n",
       "      <th>287197</th>\n",
       "      <td>1999-12</td>\n",
       "      <td>YISHUN</td>\n",
       "      <td>EXECUTIVE</td>\n",
       "      <td>392</td>\n",
       "      <td>YISHUN AVE 6</td>\n",
       "      <td>07 TO 09</td>\n",
       "      <td>146.0</td>\n",
       "      <td>MAISONETTE</td>\n",
       "      <td>1988</td>\n",
       "      <td>469000</td>\n",
       "    </tr>\n",
       "    <tr>\n",
       "      <th>287198</th>\n",
       "      <td>1999-12</td>\n",
       "      <td>YISHUN</td>\n",
       "      <td>EXECUTIVE</td>\n",
       "      <td>356</td>\n",
       "      <td>YISHUN RING RD</td>\n",
       "      <td>04 TO 06</td>\n",
       "      <td>146.0</td>\n",
       "      <td>MAISONETTE</td>\n",
       "      <td>1988</td>\n",
       "      <td>440000</td>\n",
       "    </tr>\n",
       "    <tr>\n",
       "      <th>287199</th>\n",
       "      <td>1999-12</td>\n",
       "      <td>YISHUN</td>\n",
       "      <td>EXECUTIVE</td>\n",
       "      <td>358</td>\n",
       "      <td>YISHUN RING RD</td>\n",
       "      <td>01 TO 03</td>\n",
       "      <td>145.0</td>\n",
       "      <td>MAISONETTE</td>\n",
       "      <td>1988</td>\n",
       "      <td>484000</td>\n",
       "    </tr>\n",
       "  </tbody>\n",
       "</table>\n",
       "<p>287200 rows × 10 columns</p>\n",
       "</div>"
      ],
      "text/plain": [
       "          month        town  flat_type block       street_name storey_range  \\\n",
       "0       1990-01  ANG MO KIO     1 ROOM   309  ANG MO KIO AVE 1     10 TO 12   \n",
       "1       1990-01  ANG MO KIO     1 ROOM   309  ANG MO KIO AVE 1     04 TO 06   \n",
       "2       1990-01  ANG MO KIO     1 ROOM   309  ANG MO KIO AVE 1     10 TO 12   \n",
       "3       1990-01  ANG MO KIO     1 ROOM   309  ANG MO KIO AVE 1     07 TO 09   \n",
       "4       1990-01  ANG MO KIO     3 ROOM   216  ANG MO KIO AVE 1     04 TO 06   \n",
       "...         ...         ...        ...   ...               ...          ...   \n",
       "287195  1999-12      YISHUN  EXECUTIVE   611      YISHUN ST 61     10 TO 12   \n",
       "287196  1999-12      YISHUN  EXECUTIVE   324       YISHUN CTRL     01 TO 03   \n",
       "287197  1999-12      YISHUN  EXECUTIVE   392      YISHUN AVE 6     07 TO 09   \n",
       "287198  1999-12      YISHUN  EXECUTIVE   356    YISHUN RING RD     04 TO 06   \n",
       "287199  1999-12      YISHUN  EXECUTIVE   358    YISHUN RING RD     01 TO 03   \n",
       "\n",
       "        floor_area_sqm      flat_model  lease_commence_date  resale_price  \n",
       "0                 31.0        IMPROVED                 1977          9000  \n",
       "1                 31.0        IMPROVED                 1977          6000  \n",
       "2                 31.0        IMPROVED                 1977          8000  \n",
       "3                 31.0        IMPROVED                 1977          6000  \n",
       "4                 73.0  NEW GENERATION                 1976         47200  \n",
       "...                ...             ...                  ...           ...  \n",
       "287195           142.0       APARTMENT                 1987        456000  \n",
       "287196           142.0       APARTMENT                 1988        408000  \n",
       "287197           146.0      MAISONETTE                 1988        469000  \n",
       "287198           146.0      MAISONETTE                 1988        440000  \n",
       "287199           145.0      MAISONETTE                 1988        484000  \n",
       "\n",
       "[287200 rows x 10 columns]"
      ]
     },
     "execution_count": 2,
     "metadata": {},
     "output_type": "execute_result"
    }
   ],
   "source": [
    "df1 = pd.read_csv('C:\\\\Users\\\\amalm\\\\OneDrive\\\\Desktop\\\\Data Science\\\\resale-flat-prices-based-on-approval-date-1990-1999.csv')\n",
    "df1"
   ]
  },
  {
   "cell_type": "code",
   "execution_count": 3,
   "id": "33433886",
   "metadata": {},
   "outputs": [
    {
     "data": {
      "text/plain": [
       "127000.0"
      ]
     },
     "execution_count": 3,
     "metadata": {},
     "output_type": "execute_result"
    }
   ],
   "source": [
    "q1 = df1['resale_price'].quantile(0.25)\n",
    "q1"
   ]
  },
  {
   "cell_type": "code",
   "execution_count": 4,
   "id": "5ee371fc",
   "metadata": {},
   "outputs": [
    {
     "data": {
      "text/plain": [
       "195000.0"
      ]
     },
     "execution_count": 4,
     "metadata": {},
     "output_type": "execute_result"
    }
   ],
   "source": [
    "q2 = df1['resale_price'].quantile(0.50)\n",
    "q2"
   ]
  },
  {
   "cell_type": "code",
   "execution_count": 5,
   "id": "5096ca37",
   "metadata": {},
   "outputs": [
    {
     "data": {
      "text/plain": [
       "298000.0"
      ]
     },
     "execution_count": 5,
     "metadata": {},
     "output_type": "execute_result"
    }
   ],
   "source": [
    "q3 = df1['resale_price'].quantile(0.75)\n",
    "q3"
   ]
  },
  {
   "cell_type": "code",
   "execution_count": 6,
   "id": "3dbe20ad",
   "metadata": {},
   "outputs": [
    {
     "data": {
      "text/plain": [
       "171000.0"
      ]
     },
     "execution_count": 6,
     "metadata": {},
     "output_type": "execute_result"
    }
   ],
   "source": [
    "IQR = q3-q1\n",
    "IQR"
   ]
  },
  {
   "cell_type": "code",
   "execution_count": 7,
   "id": "88e37088",
   "metadata": {},
   "outputs": [
    {
     "data": {
      "text/plain": [
       "-129500.0"
      ]
     },
     "execution_count": 7,
     "metadata": {},
     "output_type": "execute_result"
    }
   ],
   "source": [
    "low_limit = q1 - (1.5*IQR)\n",
    "low_limit"
   ]
  },
  {
   "cell_type": "code",
   "execution_count": 8,
   "id": "ecf947e5",
   "metadata": {},
   "outputs": [
    {
     "data": {
      "text/plain": [
       "554500.0"
      ]
     },
     "execution_count": 8,
     "metadata": {},
     "output_type": "execute_result"
    }
   ],
   "source": [
    "upper_limit = q3 + (1.5*IQR)\n",
    "upper_limit"
   ]
  },
  {
   "cell_type": "code",
   "execution_count": 9,
   "id": "1a0f9383",
   "metadata": {},
   "outputs": [
    {
     "data": {
      "text/plain": [
       "Int64Index([ 88311,  88312,  90081,  91755,  91952,  93492,  93495,  93497,\n",
       "             93498,  94338,\n",
       "            ...\n",
       "            286248, 286324, 286325, 286326, 286327, 286661, 286668, 286674,\n",
       "            286807, 286808],\n",
       "           dtype='int64', length=3906)"
      ]
     },
     "execution_count": 9,
     "metadata": {},
     "output_type": "execute_result"
    }
   ],
   "source": [
    "outliers = df1.loc[(df1['resale_price']<low_limit) | (df1['resale_price']>upper_limit)].index\n",
    "outliers"
   ]
  },
  {
   "cell_type": "code",
   "execution_count": 10,
   "id": "d367fefa",
   "metadata": {},
   "outputs": [
    {
     "name": "stderr",
     "output_type": "stream",
     "text": [
      "C:\\Users\\amalm\\Anaconda3\\lib\\site-packages\\seaborn\\_decorators.py:36: FutureWarning: Pass the following variable as a keyword arg: x. From version 0.12, the only valid positional argument will be `data`, and passing other arguments without an explicit keyword will result in an error or misinterpretation.\n",
      "  warnings.warn(\n"
     ]
    },
    {
     "data": {
      "text/plain": [
       "<AxesSubplot:xlabel='resale_price'>"
      ]
     },
     "execution_count": 10,
     "metadata": {},
     "output_type": "execute_result"
    },
    {
     "data": {
      "image/png": "[encoded data removed]",
      "text/plain": [
       "<Figure size 432x288 with 1 Axes>"
      ]
     },
     "metadata": {
      "needs_background": "light"
     },
     "output_type": "display_data"
    }
   ],
   "source": [
    "sns.boxplot(df1['resale_price'])"
   ]
  },
  {
   "cell_type": "code",
   "execution_count": 11,
   "id": "44c6621d",
   "metadata": {},
   "outputs": [
    {
     "data": {
      "text/html": [
       "<div>\n",
       "<style scoped>\n",
       "    .dataframe tbody tr th:only-of-type {\n",
       "        vertical-align: middle;\n",
       "    }\n",
       "\n",
       "    .dataframe tbody tr th {\n",
       "        vertical-align: top;\n",
       "    }\n",
       "\n",
       "    .dataframe thead th {\n",
       "        text-align: right;\n",
       "    }\n",
       "</style>\n",
       "<table border=\"1\" class=\"dataframe\">\n",
       "  <thead>\n",
       "    <tr style=\"text-align: right;\">\n",
       "      <th></th>\n",
       "      <th>month</th>\n",
       "      <th>town</th>\n",
       "      <th>flat_type</th>\n",
       "      <th>block</th>\n",
       "      <th>street_name</th>\n",
       "      <th>storey_range</th>\n",
       "      <th>floor_area_sqm</th>\n",
       "      <th>flat_model</th>\n",
       "      <th>lease_commence_date</th>\n",
       "      <th>resale_price</th>\n",
       "    </tr>\n",
       "  </thead>\n",
       "  <tbody>\n",
       "    <tr>\n",
       "      <th>0</th>\n",
       "      <td>1990-01</td>\n",
       "      <td>ANG MO KIO</td>\n",
       "      <td>1 ROOM</td>\n",
       "      <td>309</td>\n",
       "      <td>ANG MO KIO AVE 1</td>\n",
       "      <td>10 TO 12</td>\n",
       "      <td>31.0</td>\n",
       "      <td>IMPROVED</td>\n",
       "      <td>1977</td>\n",
       "      <td>9000</td>\n",
       "    </tr>\n",
       "    <tr>\n",
       "      <th>1</th>\n",
       "      <td>1990-01</td>\n",
       "      <td>ANG MO KIO</td>\n",
       "      <td>1 ROOM</td>\n",
       "      <td>309</td>\n",
       "      <td>ANG MO KIO AVE 1</td>\n",
       "      <td>04 TO 06</td>\n",
       "      <td>31.0</td>\n",
       "      <td>IMPROVED</td>\n",
       "      <td>1977</td>\n",
       "      <td>6000</td>\n",
       "    </tr>\n",
       "    <tr>\n",
       "      <th>2</th>\n",
       "      <td>1990-01</td>\n",
       "      <td>ANG MO KIO</td>\n",
       "      <td>1 ROOM</td>\n",
       "      <td>309</td>\n",
       "      <td>ANG MO KIO AVE 1</td>\n",
       "      <td>10 TO 12</td>\n",
       "      <td>31.0</td>\n",
       "      <td>IMPROVED</td>\n",
       "      <td>1977</td>\n",
       "      <td>8000</td>\n",
       "    </tr>\n",
       "    <tr>\n",
       "      <th>3</th>\n",
       "      <td>1990-01</td>\n",
       "      <td>ANG MO KIO</td>\n",
       "      <td>1 ROOM</td>\n",
       "      <td>309</td>\n",
       "      <td>ANG MO KIO AVE 1</td>\n",
       "      <td>07 TO 09</td>\n",
       "      <td>31.0</td>\n",
       "      <td>IMPROVED</td>\n",
       "      <td>1977</td>\n",
       "      <td>6000</td>\n",
       "    </tr>\n",
       "    <tr>\n",
       "      <th>4</th>\n",
       "      <td>1990-01</td>\n",
       "      <td>ANG MO KIO</td>\n",
       "      <td>3 ROOM</td>\n",
       "      <td>216</td>\n",
       "      <td>ANG MO KIO AVE 1</td>\n",
       "      <td>04 TO 06</td>\n",
       "      <td>73.0</td>\n",
       "      <td>NEW GENERATION</td>\n",
       "      <td>1976</td>\n",
       "      <td>47200</td>\n",
       "    </tr>\n",
       "    <tr>\n",
       "      <th>...</th>\n",
       "      <td>...</td>\n",
       "      <td>...</td>\n",
       "      <td>...</td>\n",
       "      <td>...</td>\n",
       "      <td>...</td>\n",
       "      <td>...</td>\n",
       "      <td>...</td>\n",
       "      <td>...</td>\n",
       "      <td>...</td>\n",
       "      <td>...</td>\n",
       "    </tr>\n",
       "    <tr>\n",
       "      <th>287195</th>\n",
       "      <td>1999-12</td>\n",
       "      <td>YISHUN</td>\n",
       "      <td>EXECUTIVE</td>\n",
       "      <td>611</td>\n",
       "      <td>YISHUN ST 61</td>\n",
       "      <td>10 TO 12</td>\n",
       "      <td>142.0</td>\n",
       "      <td>APARTMENT</td>\n",
       "      <td>1987</td>\n",
       "      <td>456000</td>\n",
       "    </tr>\n",
       "    <tr>\n",
       "      <th>287196</th>\n",
       "      <td>1999-12</td>\n",
       "      <td>YISHUN</td>\n",
       "      <td>EXECUTIVE</td>\n",
       "      <td>324</td>\n",
       "      <td>YISHUN CTRL</td>\n",
       "      <td>01 TO 03</td>\n",
       "      <td>142.0</td>\n",
       "      <td>APARTMENT</td>\n",
       "      <td>1988</td>\n",
       "      <td>408000</td>\n",
       "    </tr>\n",
       "    <tr>\n",
       "      <th>287197</th>\n",
       "      <td>1999-12</td>\n",
       "      <td>YISHUN</td>\n",
       "      <td>EXECUTIVE</td>\n",
       "      <td>392</td>\n",
       "      <td>YISHUN AVE 6</td>\n",
       "      <td>07 TO 09</td>\n",
       "      <td>146.0</td>\n",
       "      <td>MAISONETTE</td>\n",
       "      <td>1988</td>\n",
       "      <td>469000</td>\n",
       "    </tr>\n",
       "    <tr>\n",
       "      <th>287198</th>\n",
       "      <td>1999-12</td>\n",
       "      <td>YISHUN</td>\n",
       "      <td>EXECUTIVE</td>\n",
       "      <td>356</td>\n",
       "      <td>YISHUN RING RD</td>\n",
       "      <td>04 TO 06</td>\n",
       "      <td>146.0</td>\n",
       "      <td>MAISONETTE</td>\n",
       "      <td>1988</td>\n",
       "      <td>440000</td>\n",
       "    </tr>\n",
       "    <tr>\n",
       "      <th>287199</th>\n",
       "      <td>1999-12</td>\n",
       "      <td>YISHUN</td>\n",
       "      <td>EXECUTIVE</td>\n",
       "      <td>358</td>\n",
       "      <td>YISHUN RING RD</td>\n",
       "      <td>01 TO 03</td>\n",
       "      <td>145.0</td>\n",
       "      <td>MAISONETTE</td>\n",
       "      <td>1988</td>\n",
       "      <td>484000</td>\n",
       "    </tr>\n",
       "  </tbody>\n",
       "</table>\n",
       "<p>283294 rows × 10 columns</p>\n",
       "</div>"
      ],
      "text/plain": [
       "          month        town  flat_type block       street_name storey_range  \\\n",
       "0       1990-01  ANG MO KIO     1 ROOM   309  ANG MO KIO AVE 1     10 TO 12   \n",
       "1       1990-01  ANG MO KIO     1 ROOM   309  ANG MO KIO AVE 1     04 TO 06   \n",
       "2       1990-01  ANG MO KIO     1 ROOM   309  ANG MO KIO AVE 1     10 TO 12   \n",
       "3       1990-01  ANG MO KIO     1 ROOM   309  ANG MO KIO AVE 1     07 TO 09   \n",
       "4       1990-01  ANG MO KIO     3 ROOM   216  ANG MO KIO AVE 1     04 TO 06   \n",
       "...         ...         ...        ...   ...               ...          ...   \n",
       "287195  1999-12      YISHUN  EXECUTIVE   611      YISHUN ST 61     10 TO 12   \n",
       "287196  1999-12      YISHUN  EXECUTIVE   324       YISHUN CTRL     01 TO 03   \n",
       "287197  1999-12      YISHUN  EXECUTIVE   392      YISHUN AVE 6     07 TO 09   \n",
       "287198  1999-12      YISHUN  EXECUTIVE   356    YISHUN RING RD     04 TO 06   \n",
       "287199  1999-12      YISHUN  EXECUTIVE   358    YISHUN RING RD     01 TO 03   \n",
       "\n",
       "        floor_area_sqm      flat_model  lease_commence_date  resale_price  \n",
       "0                 31.0        IMPROVED                 1977          9000  \n",
       "1                 31.0        IMPROVED                 1977          6000  \n",
       "2                 31.0        IMPROVED                 1977          8000  \n",
       "3                 31.0        IMPROVED                 1977          6000  \n",
       "4                 73.0  NEW GENERATION                 1976         47200  \n",
       "...                ...             ...                  ...           ...  \n",
       "287195           142.0       APARTMENT                 1987        456000  \n",
       "287196           142.0       APARTMENT                 1988        408000  \n",
       "287197           146.0      MAISONETTE                 1988        469000  \n",
       "287198           146.0      MAISONETTE                 1988        440000  \n",
       "287199           145.0      MAISONETTE                 1988        484000  \n",
       "\n",
       "[283294 rows x 10 columns]"
      ]
     },
     "execution_count": 11,
     "metadata": {},
     "output_type": "execute_result"
    }
   ],
   "source": [
    "df2 = df1.drop(outliers)\n",
    "df2"
   ]
  },
  {
   "cell_type": "code",
   "execution_count": 12,
   "id": "e2247e90",
   "metadata": {},
   "outputs": [
    {
     "name": "stderr",
     "output_type": "stream",
     "text": [
      "C:\\Users\\amalm\\Anaconda3\\lib\\site-packages\\seaborn\\_decorators.py:36: FutureWarning: Pass the following variable as a keyword arg: x. From version 0.12, the only valid positional argument will be `data`, and passing other arguments without an explicit keyword will result in an error or misinterpretation.\n",
      "  warnings.warn(\n"
     ]
    },
    {
     "data": {
      "text/plain": [
       "<AxesSubplot:xlabel='resale_price'>"
      ]
     },
     "execution_count": 12,
     "metadata": {},
     "output_type": "execute_result"
    },
    {
     "data": {
      "image/png": "[encoded data removed]",
      "text/plain": [
       "<Figure size 432x288 with 1 Axes>"
      ]
     },
     "metadata": {
      "needs_background": "light"
     },
     "output_type": "display_data"
    }
   ],
   "source": [
    "sns.boxplot(df2['resale_price'])"
   ]
  },
  {
   "cell_type": "code",
   "execution_count": 13,
   "id": "7e336a4b",
   "metadata": {},
   "outputs": [
    {
     "data": {
      "text/plain": [
       "Index(['month', 'town', 'flat_type', 'block', 'street_name', 'storey_range',\n",
       "       'floor_area_sqm', 'flat_model', 'lease_commence_date', 'resale_price'],\n",
       "      dtype='object')"
      ]
     },
     "execution_count": 13,
     "metadata": {},
     "output_type": "execute_result"
    }
   ],
   "source": [
    "df2.columns"
   ]
  },
  {
   "cell_type": "code",
   "execution_count": 30,
   "id": "63cdd10f",
   "metadata": {},
   "outputs": [
    {
     "name": "stdout",
     "output_type": "stream",
     "text": [
      "{'lease_commence_date': [1967.0, 1999.0], 'resale_price': [-129500.0, 554500.0], 'floor_area_sqm': [0.5, 180.5]}\n"
     ]
    }
   ],
   "source": [
    "def find_iqr(dataframe,columns):\n",
    "    q1=dataframe[columns].quantile(0.25)\n",
    "    q2=dataframe[columns].quantile(.50)\n",
    "    q3=dataframe[columns].quantile(0.75)\n",
    "    \n",
    "    IQR =q3-q1\n",
    "    low_lmt=q1-1.5*IQR\n",
    "    upp_lmt=q3+1.5*IQR\n",
    "    return low_lmt,upp_lmt\n",
    "\n",
    "columns=['lease_commence_date','resale_price','floor_area_sqm']\n",
    "outliers={}\n",
    "for column in columns:\n",
    "    low_lmt,upp_lmt=find_iqr(df1,column)\n",
    "    outliers[column]=[low_lmt,upp_lmt]\n",
    "print(outliers)    "
   ]
  },
  {
   "cell_type": "code",
   "execution_count": 31,
   "id": "7555f3d5",
   "metadata": {},
   "outputs": [
    {
     "data": {
      "text/plain": [
       "0.5"
      ]
     },
     "execution_count": 31,
     "metadata": {},
     "output_type": "execute_result"
    }
   ],
   "source": [
    "low_lmt"
   ]
  },
  {
   "cell_type": "code",
   "execution_count": 32,
   "id": "485a8fb6",
   "metadata": {},
   "outputs": [
    {
     "data": {
      "text/plain": [
       "180.5"
      ]
     },
     "execution_count": 32,
     "metadata": {},
     "output_type": "execute_result"
    }
   ],
   "source": [
    "upp_lmt"
   ]
  },
  {
   "cell_type": "code",
   "execution_count": 33,
   "id": "7d1d1dd0",
   "metadata": {},
   "outputs": [
    {
     "data": {
      "text/plain": [
       "{'lease_commence_date': [1967.0, 1999.0],\n",
       " 'resale_price': [-129500.0, 554500.0],\n",
       " 'floor_area_sqm': [0.5, 180.5]}"
      ]
     },
     "execution_count": 33,
     "metadata": {},
     "output_type": "execute_result"
    }
   ],
   "source": [
    "outliers"
   ]
  },
  {
   "cell_type": "code",
   "execution_count": 38,
   "id": "7775f6ef",
   "metadata": {},
   "outputs": [
    {
     "data": {
      "text/plain": [
       "Int64Index([], dtype='int64')"
      ]
     },
     "execution_count": 38,
     "metadata": {},
     "output_type": "execute_result"
    }
   ],
   "source": [
    "df1[(df1['lease_commence_date']<outliers['lease_commence_date'][0]) | (df1['lease_commence_date']>outliers['lease_commence_date'][1])].index"
   ]
  },
  {
   "cell_type": "code",
   "execution_count": 47,
   "id": "f429b31d",
   "metadata": {},
   "outputs": [],
   "source": [
    "drop1 = []\n",
    "\n",
    "for k in columns:\n",
    "    drop1.append(df1[(df1[k]<outliers[k][0]) | (df1[k]>outliers[k][1])].index.values)"
   ]
  },
  {
   "cell_type": "code",
   "execution_count": 48,
   "id": "1ed1a9e4",
   "metadata": {},
   "outputs": [
    {
     "data": {
      "text/plain": [
       "[array([], dtype=int64),\n",
       " array([], dtype=int64),\n",
       " array([  3203,  11125,  28257,  29332,  31519,  32746,  40563,  44967,\n",
       "         47516,  52455,  54661,  54662,  61205,  64854,  67471,  68381,\n",
       "         69547,  72437,  80647,  82586,  82587,  88313,  88990,  88993,\n",
       "         90079,  90080,  91396,  93069,  93494,  94985,  94988,  95453,\n",
       "         97303,  97304,  99795, 101345, 102958, 105014, 108514, 108515,\n",
       "        111292, 111621, 114926, 116357, 119053, 127313, 128457, 150427,\n",
       "        181767, 191931, 191932, 191933, 195699, 195700, 195701, 195702,\n",
       "        199710, 199712, 199714, 199715, 199716, 199718, 199719, 200837,\n",
       "        204047, 204049, 204498, 205270, 207080, 208500, 208501, 208502,\n",
       "        208504, 208505, 208506, 208507, 208510, 208511, 208512, 208514,\n",
       "        208515, 208518, 208519, 208520, 208936, 211654, 213231, 213233,\n",
       "        213234, 213235, 213237, 213239, 213240, 213699, 214757, 218839,\n",
       "        218840, 218847, 218851, 218852, 218853, 218855, 219400, 220281,\n",
       "        222292, 222293, 223920, 223921, 223922, 223923, 223924, 223925,\n",
       "        223926, 223927, 223928, 223929, 228926, 228927, 228928, 228930,\n",
       "        228932, 228933, 228935, 228936, 228937, 228938, 228940, 228941,\n",
       "        228942, 228943, 229393, 233733, 233743, 233744, 233745, 233746,\n",
       "        233749, 233750, 233752, 233753, 233754, 233755, 233756, 233757,\n",
       "        233758, 233759, 235022, 238660, 238661, 238662, 238664, 238665,\n",
       "        238666, 238667, 238668, 238669, 238670, 240164, 244921, 244922,\n",
       "        244923, 244924, 244925, 244926, 244927, 244928, 244931, 244932,\n",
       "        244933, 244934, 245487, 248834, 250666, 250667, 250668, 250669,\n",
       "        250671, 250672, 250675, 250676, 250678, 250679, 250681, 250682,\n",
       "        250683, 256389, 256390, 256399, 256400, 256401, 256402, 256405,\n",
       "        256406, 256408, 256409, 256410, 257842, 257843, 262234, 262237,\n",
       "        262238, 262239, 262240, 262241, 262242, 262243, 262245, 262718,\n",
       "        262719, 262723, 267743, 267758, 267759, 267760, 267762, 267778,\n",
       "        267781, 267784, 267785, 268217, 269111, 273001, 273025, 273034,\n",
       "        273050, 273051, 273052, 273054, 273055, 273057, 276904, 276905,\n",
       "        276906, 276932, 276933, 276952, 276954, 280677, 280678, 280696,\n",
       "        280697, 280707, 280708, 280709, 280710, 280713, 280714, 280715,\n",
       "        281016, 282943, 284115, 284125, 284126, 284134, 284875, 286948,\n",
       "        286959, 286960, 286968], dtype=int64)]"
      ]
     },
     "execution_count": 48,
     "metadata": {},
     "output_type": "execute_result"
    }
   ],
   "source": [
    "drop1"
   ]
  },
  {
   "cell_type": "code",
   "execution_count": 49,
   "id": "ab7030e6",
   "metadata": {},
   "outputs": [],
   "source": [
    "for i in drop1:\n",
    "    df1.drop(i,inplace=True)"
   ]
  },
  {
   "cell_type": "code",
   "execution_count": 50,
   "id": "7214bc44",
   "metadata": {},
   "outputs": [
    {
     "data": {
      "text/html": [
       "<div>\n",
       "<style scoped>\n",
       "    .dataframe tbody tr th:only-of-type {\n",
       "        vertical-align: middle;\n",
       "    }\n",
       "\n",
       "    .dataframe tbody tr th {\n",
       "        vertical-align: top;\n",
       "    }\n",
       "\n",
       "    .dataframe thead th {\n",
       "        text-align: right;\n",
       "    }\n",
       "</style>\n",
       "<table border=\"1\" class=\"dataframe\">\n",
       "  <thead>\n",
       "    <tr style=\"text-align: right;\">\n",
       "      <th></th>\n",
       "      <th>month</th>\n",
       "      <th>town</th>\n",
       "      <th>flat_type</th>\n",
       "      <th>block</th>\n",
       "      <th>street_name</th>\n",
       "      <th>storey_range</th>\n",
       "      <th>floor_area_sqm</th>\n",
       "      <th>flat_model</th>\n",
       "      <th>lease_commence_date</th>\n",
       "      <th>resale_price</th>\n",
       "    </tr>\n",
       "  </thead>\n",
       "  <tbody>\n",
       "    <tr>\n",
       "      <th>0</th>\n",
       "      <td>1990-01</td>\n",
       "      <td>ANG MO KIO</td>\n",
       "      <td>1 ROOM</td>\n",
       "      <td>309</td>\n",
       "      <td>ANG MO KIO AVE 1</td>\n",
       "      <td>10 TO 12</td>\n",
       "      <td>31.0</td>\n",
       "      <td>IMPROVED</td>\n",
       "      <td>1977</td>\n",
       "      <td>9000</td>\n",
       "    </tr>\n",
       "    <tr>\n",
       "      <th>1</th>\n",
       "      <td>1990-01</td>\n",
       "      <td>ANG MO KIO</td>\n",
       "      <td>1 ROOM</td>\n",
       "      <td>309</td>\n",
       "      <td>ANG MO KIO AVE 1</td>\n",
       "      <td>04 TO 06</td>\n",
       "      <td>31.0</td>\n",
       "      <td>IMPROVED</td>\n",
       "      <td>1977</td>\n",
       "      <td>6000</td>\n",
       "    </tr>\n",
       "    <tr>\n",
       "      <th>2</th>\n",
       "      <td>1990-01</td>\n",
       "      <td>ANG MO KIO</td>\n",
       "      <td>1 ROOM</td>\n",
       "      <td>309</td>\n",
       "      <td>ANG MO KIO AVE 1</td>\n",
       "      <td>10 TO 12</td>\n",
       "      <td>31.0</td>\n",
       "      <td>IMPROVED</td>\n",
       "      <td>1977</td>\n",
       "      <td>8000</td>\n",
       "    </tr>\n",
       "    <tr>\n",
       "      <th>3</th>\n",
       "      <td>1990-01</td>\n",
       "      <td>ANG MO KIO</td>\n",
       "      <td>1 ROOM</td>\n",
       "      <td>309</td>\n",
       "      <td>ANG MO KIO AVE 1</td>\n",
       "      <td>07 TO 09</td>\n",
       "      <td>31.0</td>\n",
       "      <td>IMPROVED</td>\n",
       "      <td>1977</td>\n",
       "      <td>6000</td>\n",
       "    </tr>\n",
       "    <tr>\n",
       "      <th>4</th>\n",
       "      <td>1990-01</td>\n",
       "      <td>ANG MO KIO</td>\n",
       "      <td>3 ROOM</td>\n",
       "      <td>216</td>\n",
       "      <td>ANG MO KIO AVE 1</td>\n",
       "      <td>04 TO 06</td>\n",
       "      <td>73.0</td>\n",
       "      <td>NEW GENERATION</td>\n",
       "      <td>1976</td>\n",
       "      <td>47200</td>\n",
       "    </tr>\n",
       "    <tr>\n",
       "      <th>...</th>\n",
       "      <td>...</td>\n",
       "      <td>...</td>\n",
       "      <td>...</td>\n",
       "      <td>...</td>\n",
       "      <td>...</td>\n",
       "      <td>...</td>\n",
       "      <td>...</td>\n",
       "      <td>...</td>\n",
       "      <td>...</td>\n",
       "      <td>...</td>\n",
       "    </tr>\n",
       "    <tr>\n",
       "      <th>287195</th>\n",
       "      <td>1999-12</td>\n",
       "      <td>YISHUN</td>\n",
       "      <td>EXECUTIVE</td>\n",
       "      <td>611</td>\n",
       "      <td>YISHUN ST 61</td>\n",
       "      <td>10 TO 12</td>\n",
       "      <td>142.0</td>\n",
       "      <td>APARTMENT</td>\n",
       "      <td>1987</td>\n",
       "      <td>456000</td>\n",
       "    </tr>\n",
       "    <tr>\n",
       "      <th>287196</th>\n",
       "      <td>1999-12</td>\n",
       "      <td>YISHUN</td>\n",
       "      <td>EXECUTIVE</td>\n",
       "      <td>324</td>\n",
       "      <td>YISHUN CTRL</td>\n",
       "      <td>01 TO 03</td>\n",
       "      <td>142.0</td>\n",
       "      <td>APARTMENT</td>\n",
       "      <td>1988</td>\n",
       "      <td>408000</td>\n",
       "    </tr>\n",
       "    <tr>\n",
       "      <th>287197</th>\n",
       "      <td>1999-12</td>\n",
       "      <td>YISHUN</td>\n",
       "      <td>EXECUTIVE</td>\n",
       "      <td>392</td>\n",
       "      <td>YISHUN AVE 6</td>\n",
       "      <td>07 TO 09</td>\n",
       "      <td>146.0</td>\n",
       "      <td>MAISONETTE</td>\n",
       "      <td>1988</td>\n",
       "      <td>469000</td>\n",
       "    </tr>\n",
       "    <tr>\n",
       "      <th>287198</th>\n",
       "      <td>1999-12</td>\n",
       "      <td>YISHUN</td>\n",
       "      <td>EXECUTIVE</td>\n",
       "      <td>356</td>\n",
       "      <td>YISHUN RING RD</td>\n",
       "      <td>04 TO 06</td>\n",
       "      <td>146.0</td>\n",
       "      <td>MAISONETTE</td>\n",
       "      <td>1988</td>\n",
       "      <td>440000</td>\n",
       "    </tr>\n",
       "    <tr>\n",
       "      <th>287199</th>\n",
       "      <td>1999-12</td>\n",
       "      <td>YISHUN</td>\n",
       "      <td>EXECUTIVE</td>\n",
       "      <td>358</td>\n",
       "      <td>YISHUN RING RD</td>\n",
       "      <td>01 TO 03</td>\n",
       "      <td>145.0</td>\n",
       "      <td>MAISONETTE</td>\n",
       "      <td>1988</td>\n",
       "      <td>484000</td>\n",
       "    </tr>\n",
       "  </tbody>\n",
       "</table>\n",
       "<p>283035 rows × 10 columns</p>\n",
       "</div>"
      ],
      "text/plain": [
       "          month        town  flat_type block       street_name storey_range  \\\n",
       "0       1990-01  ANG MO KIO     1 ROOM   309  ANG MO KIO AVE 1     10 TO 12   \n",
       "1       1990-01  ANG MO KIO     1 ROOM   309  ANG MO KIO AVE 1     04 TO 06   \n",
       "2       1990-01  ANG MO KIO     1 ROOM   309  ANG MO KIO AVE 1     10 TO 12   \n",
       "3       1990-01  ANG MO KIO     1 ROOM   309  ANG MO KIO AVE 1     07 TO 09   \n",
       "4       1990-01  ANG MO KIO     3 ROOM   216  ANG MO KIO AVE 1     04 TO 06   \n",
       "...         ...         ...        ...   ...               ...          ...   \n",
       "287195  1999-12      YISHUN  EXECUTIVE   611      YISHUN ST 61     10 TO 12   \n",
       "287196  1999-12      YISHUN  EXECUTIVE   324       YISHUN CTRL     01 TO 03   \n",
       "287197  1999-12      YISHUN  EXECUTIVE   392      YISHUN AVE 6     07 TO 09   \n",
       "287198  1999-12      YISHUN  EXECUTIVE   356    YISHUN RING RD     04 TO 06   \n",
       "287199  1999-12      YISHUN  EXECUTIVE   358    YISHUN RING RD     01 TO 03   \n",
       "\n",
       "        floor_area_sqm      flat_model  lease_commence_date  resale_price  \n",
       "0                 31.0        IMPROVED                 1977          9000  \n",
       "1                 31.0        IMPROVED                 1977          6000  \n",
       "2                 31.0        IMPROVED                 1977          8000  \n",
       "3                 31.0        IMPROVED                 1977          6000  \n",
       "4                 73.0  NEW GENERATION                 1976         47200  \n",
       "...                ...             ...                  ...           ...  \n",
       "287195           142.0       APARTMENT                 1987        456000  \n",
       "287196           142.0       APARTMENT                 1988        408000  \n",
       "287197           146.0      MAISONETTE                 1988        469000  \n",
       "287198           146.0      MAISONETTE                 1988        440000  \n",
       "287199           145.0      MAISONETTE                 1988        484000  \n",
       "\n",
       "[283035 rows x 10 columns]"
      ]
     },
     "execution_count": 50,
     "metadata": {},
     "output_type": "execute_result"
    }
   ],
   "source": [
    "df1"
   ]
  },
  {
   "cell_type": "code",
   "execution_count": null,
   "id": "63bc669e",
   "metadata": {},
   "outputs": [],
   "source": []
  }
 ],
 "metadata": {
  "kernelspec": {
   "display_name": "Python 3 (ipykernel)",
   "language": "python",
   "name": "python3"
  },
  "language_info": {
   "codemirror_mode": {
    "name": "ipython",
    "version": 3
   },
   "file_extension": ".py",
   "mimetype": "text/x-python",
   "name": "python",
   "nbconvert_exporter": "python",
   "pygments_lexer": "ipython3",
   "version": "3.9.7"
  }
 },
 "nbformat": 4,
 "nbformat_minor": 5
}
